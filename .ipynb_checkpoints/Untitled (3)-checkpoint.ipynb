{
 "cells": [
  {
   "cell_type": "code",
   "execution_count": 1,
   "metadata": {},
   "outputs": [],
   "source": [
    "import pandas as pd \n",
    "import numpy as np\n",
    "from selenium import webdriver\n",
    "import time\n",
    "from selenium.webdriver.common.keys import Keys\n",
    "import random\n",
    "import requests \n",
    "import csv\n",
    "from bs4 import BeautifulSoup"
   ]
  },
  {
   "cell_type": "code",
   "execution_count": 2,
   "metadata": {},
   "outputs": [],
   "source": [
    "import csv\n",
    "with open('Amazon.csv', 'r') as f:\n",
    "  file = csv.reader(f)\n",
    "  my_list = list(file)"
   ]
  },
  {
   "cell_type": "code",
   "execution_count": 3,
   "metadata": {},
   "outputs": [
    {
     "data": {
      "text/plain": [
       "'B000N1XPEY'"
      ]
     },
     "execution_count": 3,
     "metadata": {},
     "output_type": "execute_result"
    }
   ],
   "source": [
    "my_list[1][1]"
   ]
  },
  {
   "cell_type": "code",
   "execution_count": 4,
   "metadata": {},
   "outputs": [],
   "source": [
    "bot  = webdriver.Chrome()"
   ]
  },
  {
   "cell_type": "code",
   "execution_count": 5,
   "metadata": {},
   "outputs": [],
   "source": [
    "aaa = []##we append the description , base price and shelf price here\n",
    "for i in range (6): \n",
    "    if i == 0:\n",
    "        continue\n",
    "    else:\n",
    "        key = ('https://www.amazon.co.uk/s?k='+my_list[i][1]+'&ref=nb_sb_noss')\n",
    "        var = [my_list[i][1]]\n",
    "        bot.get(key)\n",
    "        time.sleep(2)\n",
    "        data = BeautifulSoup(bot.page_source)\n",
    "        try:\n",
    "            bot.find_element_by_class_name('s-image').click()\n",
    "            time.sleep(2)\n",
    "            data = BeautifulSoup(bot.page_source)\n",
    "            name_box1 = data.find('span', attrs={'class':'a-size-medium a-color-price priceBlockBuyingPriceString'})\n",
    "            try:\n",
    "                var.append(name_box1)\n",
    "            except:\n",
    "                var.append(\"Empty Space\")\n",
    "            time.sleep(0.5)\n",
    "            data = BeautifulSoup(bot.page_source)\n",
    "            name_box2 = data.find('span', attrs={'class':'priceBlockStrikePriceString a-text-strike'})\n",
    "            try:\n",
    "                var.append(name_box2)\n",
    "            except:\n",
    "                var.append(\"Empty Space\")\n",
    "            name_box = data.find('span', attrs={'class':'a-size-large product-title-word-break'})\n",
    "            try:\n",
    "                var.append(name_box)\n",
    "            except:\n",
    "                var.append(\"Empty Space\")\n",
    "\n",
    "        except:\n",
    "            pass\n",
    "        aaa.append(var)"
   ]
  },
  {
   "cell_type": "code",
   "execution_count": 6,
   "metadata": {},
   "outputs": [],
   "source": [
    "for k in range(len(aaa)):\n",
    "    i = aaa[k]\n",
    "    if len(i)==1:\n",
    "        continue\n",
    "    else:\n",
    "        for j in range(1,len(i)):\n",
    "            if i[j] is None:\n",
    "                continue\n",
    "            else:\n",
    "                i[j] = i[j].text.strip()\n",
    "    aaa[k] = i"
   ]
  },
  {
   "cell_type": "code",
   "execution_count": 7,
   "metadata": {},
   "outputs": [
    {
     "data": {
      "text/plain": [
       "[['B000N1XPEY'],\n",
       " ['B000NM75KI'],\n",
       " ['B000QU95XW'],\n",
       " ['B000UE2YVE'],\n",
       " ['B0012344GK']]"
      ]
     },
     "execution_count": 7,
     "metadata": {},
     "output_type": "execute_result"
    }
   ],
   "source": [
    "aaa"
   ]
  },
  {
   "cell_type": "code",
   "execution_count": 11,
   "metadata": {},
   "outputs": [],
   "source": [
    "for i in range(5):\n",
    "    try:\n",
    "        if aaa[i][1] == None:\n",
    "            del aaa[i]\n",
    "        else:\n",
    "            continue\n",
    "    except:\n",
    "        pass"
   ]
  },
  {
   "cell_type": "code",
   "execution_count": 8,
   "metadata": {},
   "outputs": [
    {
     "data": {
      "text/plain": [
       "[['B000N1XPEY'],\n",
       " ['B000NM75KI'],\n",
       " ['B000QU95XW'],\n",
       " ['B000UE2YVE'],\n",
       " ['B0012344GK']]"
      ]
     },
     "execution_count": 8,
     "metadata": {},
     "output_type": "execute_result"
    }
   ],
   "source": [
    "aaa"
   ]
  },
  {
   "cell_type": "code",
   "execution_count": 13,
   "metadata": {},
   "outputs": [],
   "source": [
    "with open(\"Amazon_Output.csv\", \"rt\") as f:\n",
    "    reader = csv.reader(f)\n",
    "    columns = next(reader)"
   ]
  },
  {
   "cell_type": "code",
   "execution_count": 21,
   "metadata": {},
   "outputs": [],
   "source": [
    "obtained = ['Supplier Product Code', 'Base Price','On-Shelf Price', 'Description']"
   ]
  },
  {
   "cell_type": "code",
   "execution_count": 22,
   "metadata": {},
   "outputs": [],
   "source": [
    "save = [dict(zip(obtained, i)) for i in aaa]"
   ]
  },
  {
   "cell_type": "code",
   "execution_count": 38,
   "metadata": {},
   "outputs": [],
   "source": [
    "### Adding missing columns\n",
    "save2 = []\n",
    "for i in save:\n",
    "    temp = []\n",
    "    for j in columns:\n",
    "        if j not in obtained:\n",
    "            temp.append(None)\n",
    "        else:\n",
    "            temp.append(i[j])\n",
    "    save2.append(temp)"
   ]
  },
  {
   "cell_type": "code",
   "execution_count": 39,
   "metadata": {},
   "outputs": [
    {
     "data": {
      "text/plain": [
       "[['B000NM75KI',\n",
       "  '£7.39',\n",
       "  '£7.90',\n",
       "  None,\n",
       "  None,\n",
       "  None,\n",
       "  None,\n",
       "  None,\n",
       "  None,\n",
       "  None,\n",
       "  None,\n",
       "  'Robert Scott Tea Towels with a Coloured Check Design | Pack of 10 | Assorted Colours | Machine Washable | Absorbent Fabric',\n",
       "  None,\n",
       "  None,\n",
       "  None,\n",
       "  None],\n",
       " ['B000UE2YVE',\n",
       "  None,\n",
       "  None,\n",
       "  None,\n",
       "  None,\n",
       "  None,\n",
       "  None,\n",
       "  None,\n",
       "  None,\n",
       "  None,\n",
       "  None,\n",
       "  None,\n",
       "  None,\n",
       "  None,\n",
       "  None,\n",
       "  None],\n",
       " ['B0012344GK',\n",
       "  '£5.99',\n",
       "  None,\n",
       "  None,\n",
       "  None,\n",
       "  None,\n",
       "  None,\n",
       "  None,\n",
       "  None,\n",
       "  None,\n",
       "  None,\n",
       "  'Addis 90L Plastic Refuse Sacks Black, 20 Each',\n",
       "  None,\n",
       "  None,\n",
       "  None,\n",
       "  None]]"
      ]
     },
     "execution_count": 39,
     "metadata": {},
     "output_type": "execute_result"
    }
   ],
   "source": [
    "save2"
   ]
  },
  {
   "cell_type": "code",
   "execution_count": null,
   "metadata": {},
   "outputs": [],
   "source": []
  }
 ],
 "metadata": {
  "kernelspec": {
   "display_name": "Python 3",
   "language": "python",
   "name": "python3"
  },
  "language_info": {
   "codemirror_mode": {
    "name": "ipython",
    "version": 3
   },
   "file_extension": ".py",
   "mimetype": "text/x-python",
   "name": "python",
   "nbconvert_exporter": "python",
   "pygments_lexer": "ipython3",
   "version": "3.7.6"
  }
 },
 "nbformat": 4,
 "nbformat_minor": 4
}
