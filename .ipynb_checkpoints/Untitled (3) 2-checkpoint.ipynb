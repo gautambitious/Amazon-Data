{
 "cells": [
  {
   "cell_type": "code",
   "execution_count": 1,
   "metadata": {},
   "outputs": [],
   "source": [
    "import pandas as pd \n",
    "import numpy as np\n",
    "from selenium import webdriver\n",
    "import time\n",
    "from selenium.webdriver.common.keys import Keys\n",
    "import random\n",
    "import requests \n",
    "import csv\n",
    "from bs4 import BeautifulSoup"
   ]
  },
  {
   "cell_type": "code",
   "execution_count": 2,
   "metadata": {},
   "outputs": [],
   "source": [
    "import csv\n",
    "with open('Amazon.csv', 'r') as f:\n",
    "  file = csv.reader(f)\n",
    "  my_list = list(file)\n",
    "# print(my_list)"
   ]
  },
  {
   "cell_type": "code",
   "execution_count": 3,
   "metadata": {},
   "outputs": [
    {
     "data": {
      "text/plain": [
       "'B000N1XPEY'"
      ]
     },
     "execution_count": 3,
     "metadata": {},
     "output_type": "execute_result"
    }
   ],
   "source": [
    "my_list[1][1]"
   ]
  },
  {
   "cell_type": "code",
   "execution_count": 4,
   "metadata": {},
   "outputs": [
    {
     "ename": "SyntaxError",
     "evalue": "invalid syntax (<ipython-input-4-3b1e7513b343>, line 1)",
     "output_type": "error",
     "traceback": [
      "\u001b[1;36m  File \u001b[1;32m\"<ipython-input-4-3b1e7513b343>\"\u001b[1;36m, line \u001b[1;32m1\u001b[0m\n\u001b[1;33m    bot  = webdriver.Chrome()see it on my pc once\u001b[0m\n\u001b[1;37m                               ^\u001b[0m\n\u001b[1;31mSyntaxError\u001b[0m\u001b[1;31m:\u001b[0m invalid syntax\n"
     ]
    }
   ],
   "source": [
    "bot  = webdriver.Chrome()see it on my pc once"
   ]
  },
  {
   "cell_type": "code",
   "execution_count": null,
   "metadata": {},
   "outputs": [],
   "source": [
    "aaa = []##we append the description , base price and shelf price here\n",
    "for i in range (20): \n",
    "    if i == 0:\n",
    "        continue\n",
    "    else:\n",
    "        key = ('https://www.amazon.co.uk/s?k='+my_list[i][1]+'&ref=nb_sb_noss')\n",
    "        var = [my_list[i][1]]\n",
    "        bot.get(key)\n",
    "        time.sleep(2)\n",
    "        data = BeautifulSoup(bot.page_source)\n",
    "        try:\n",
    "            bot.find_element_by_class_name('s-image').click()\n",
    "            time.sleep(2)\n",
    "            data = BeautifulSoup(bot.page_source)\n",
    "            name_box1 = data.find('span', attrs={'class':'a-size-medium a-color-price priceBlockBuyingPriceString'})\n",
    "            try:\n",
    "                var.append(name_box1)\n",
    "            except:\n",
    "                var.append(\"Empty Space\")\n",
    "            time.sleep(0.5)\n",
    "            data = BeautifulSoup(bot.page_source)\n",
    "            name_box2 = data.find('span', attrs={'class':'priceBlockStrikePriceString a-text-strike'})\n",
    "            try:\n",
    "                var.append(name_box2)\n",
    "            except:\n",
    "                var.append(\"Empty Space\")\n",
    "            name_box = data.find('span', attrs={'class':'a-size-large product-title-word-break'})\n",
    "            try:\n",
    "                var.append(name_box)\n",
    "            except:\n",
    "                var.append(\"Empty Space\")\n",
    "\n",
    "        except:\n",
    "            pass\n",
    "        aaa.append(var)"
   ]
  },
  {
   "cell_type": "code",
   "execution_count": null,
   "metadata": {},
   "outputs": [],
   "source": [
    "for k in range(len(aaa)):\n",
    "    i = aaa[k]\n",
    "    if len(i)==1:\n",
    "        continue\n",
    "    else:\n",
    "        for j in range(1,len(i)):\n",
    "            if i[j] is None:\n",
    "                continue\n",
    "            else:\n",
    "                i[j] = i[j].text.strip()\n",
    "    aaa[k] = i"
   ]
  },
  {
   "cell_type": "code",
   "execution_count": null,
   "metadata": {},
   "outputs": [],
   "source": [
    "aaa = [i + [None]*(4-len(i)) for i in aaa]"
   ]
  },
  {
   "cell_type": "code",
   "execution_count": 5,
   "metadata": {},
   "outputs": [
    {
     "ename": "NameError",
     "evalue": "name 'aaa' is not defined",
     "output_type": "error",
     "traceback": [
      "\u001b[1;31m---------------------------------------------------------------------------\u001b[0m",
      "\u001b[1;31mNameError\u001b[0m                                 Traceback (most recent call last)",
      "\u001b[1;32m<ipython-input-5-4e09fa374666>\u001b[0m in \u001b[0;36m<module>\u001b[1;34m\u001b[0m\n\u001b[1;32m----> 1\u001b[1;33m \u001b[0mdata\u001b[0m \u001b[1;33m=\u001b[0m \u001b[0mnp\u001b[0m\u001b[1;33m.\u001b[0m\u001b[0marray\u001b[0m\u001b[1;33m(\u001b[0m\u001b[0maaa\u001b[0m\u001b[1;33m)\u001b[0m\u001b[1;33m\u001b[0m\u001b[1;33m\u001b[0m\u001b[0m\n\u001b[0m",
      "\u001b[1;31mNameError\u001b[0m: name 'aaa' is not defined"
     ]
    }
   ],
   "source": [
    "data = np.array(aaa)"
   ]
  },
  {
   "cell_type": "code",
   "execution_count": 6,
   "metadata": {},
   "outputs": [
    {
     "ename": "NameError",
     "evalue": "name 'data' is not defined",
     "output_type": "error",
     "traceback": [
      "\u001b[1;31m---------------------------------------------------------------------------\u001b[0m",
      "\u001b[1;31mNameError\u001b[0m                                 Traceback (most recent call last)",
      "\u001b[1;32m<ipython-input-6-047ed65ff157>\u001b[0m in \u001b[0;36m<module>\u001b[1;34m\u001b[0m\n\u001b[1;32m----> 1\u001b[1;33m \u001b[0mdata\u001b[0m\u001b[1;33m.\u001b[0m\u001b[0mshape\u001b[0m\u001b[1;33m\u001b[0m\u001b[1;33m\u001b[0m\u001b[0m\n\u001b[0m",
      "\u001b[1;31mNameError\u001b[0m: name 'data' is not defined"
     ]
    }
   ],
   "source": [
    "data.shape"
   ]
  },
  {
   "cell_type": "code",
   "execution_count": 10,
   "metadata": {},
   "outputs": [
    {
     "data": {
      "text/plain": [
       "[['B000N1XPEY', None, None, None],\n",
       " ['B000NM75KI', None, None, None],\n",
       " ['B000QU95XW', None, None, None],\n",
       " ['B000UE2YVE', None, None, None],\n",
       " ['B0012344GK', None, None, None],\n",
       " ['B00133IMYO', None, None, None],\n",
       " ['B001B9527U', None, None, None],\n",
       " ['B001IP0SJY', None, None, None],\n",
       " ['B001PTIRL4', None, None, None],\n",
       " ['B001QIK82U', None, None, None],\n",
       " ['B002E2LSQ2', None, None, None],\n",
       " ['B002E2LTUC', None, None, None],\n",
       " ['B002E2ONPA', None, None, None],\n",
       " ['B002E2SOEG', None, None, None],\n",
       " ['B002NF3642', None, None, None],\n",
       " ['B002VPUPMA', None, None, None],\n",
       " ['B003022602', None, None, None],\n",
       " ['B0030A10W4', None, None, None],\n",
       " ['B003848SAY', None, None, None]]"
      ]
     },
     "execution_count": 10,
     "metadata": {},
     "output_type": "execute_result"
    }
   ],
   "source": [
    "aaa"
   ]
  },
  {
   "cell_type": "code",
   "execution_count": 11,
   "metadata": {},
   "outputs": [],
   "source": [
    "for i in range(5):\n",
    "    try:\n",
    "        if aaa[i][1] == None:\n",
    "            del aaa[i]\n",
    "        else:\n",
    "            continue\n",
    "    except:\n",
    "        pass"
   ]
  },
  {
   "cell_type": "code",
   "execution_count": 12,
   "metadata": {},
   "outputs": [
    {
     "data": {
      "text/plain": [
       "[['B000NM75KI', None, None, None],\n",
       " ['B000UE2YVE', None, None, None],\n",
       " ['B00133IMYO', None, None, None],\n",
       " ['B001IP0SJY', None, None, None],\n",
       " ['B001QIK82U', None, None, None],\n",
       " ['B002E2LSQ2', None, None, None],\n",
       " ['B002E2LTUC', None, None, None],\n",
       " ['B002E2ONPA', None, None, None],\n",
       " ['B002E2SOEG', None, None, None],\n",
       " ['B002NF3642', None, None, None],\n",
       " ['B002VPUPMA', None, None, None],\n",
       " ['B003022602', None, None, None],\n",
       " ['B0030A10W4', None, None, None],\n",
       " ['B003848SAY', None, None, None]]"
      ]
     },
     "execution_count": 12,
     "metadata": {},
     "output_type": "execute_result"
    }
   ],
   "source": [
    "aaa"
   ]
  },
  {
   "cell_type": "code",
   "execution_count": null,
   "metadata": {},
   "outputs": [],
   "source": []
  }
 ],
 "metadata": {
  "kernelspec": {
   "display_name": "Python 3",
   "language": "python",
   "name": "python3"
  },
  "language_info": {
   "codemirror_mode": {
    "name": "ipython",
    "version": 3
   },
   "file_extension": ".py",
   "mimetype": "text/x-python",
   "name": "python",
   "nbconvert_exporter": "python",
   "pygments_lexer": "ipython3",
   "version": "3.7.6"
  }
 },
 "nbformat": 4,
 "nbformat_minor": 4
}
