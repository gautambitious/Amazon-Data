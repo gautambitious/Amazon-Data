{
 "cells": [
  {
   "cell_type": "code",
   "execution_count": 1,
   "metadata": {},
   "outputs": [],
   "source": [
    "import pandas as pd \n",
    "import numpy as np\n",
    "from selenium import webdriver\n",
    "import time\n",
    "from selenium.webdriver.common.keys import Keys\n",
    "import random\n",
    "import requests \n",
    "import csv\n",
    "from bs4 import BeautifulSoup"
   ]
  },
  {
   "cell_type": "code",
   "execution_count": 2,
   "metadata": {},
   "outputs": [],
   "source": [
    "data = pd.read_csv('Amazon.csv',encoding= 'unicode_escape')"
   ]
  },
  {
   "cell_type": "code",
   "execution_count": 3,
   "metadata": {},
   "outputs": [
    {
     "data": {
      "text/html": [
       "<div>\n",
       "<style scoped>\n",
       "    .dataframe tbody tr th:only-of-type {\n",
       "        vertical-align: middle;\n",
       "    }\n",
       "\n",
       "    .dataframe tbody tr th {\n",
       "        vertical-align: top;\n",
       "    }\n",
       "\n",
       "    .dataframe thead th {\n",
       "        text-align: right;\n",
       "    }\n",
       "</style>\n",
       "<table border=\"1\" class=\"dataframe\">\n",
       "  <thead>\n",
       "    <tr style=\"text-align: right;\">\n",
       "      <th></th>\n",
       "      <th>Brand</th>\n",
       "      <th>Amazon</th>\n",
       "    </tr>\n",
       "  </thead>\n",
       "  <tbody>\n",
       "    <tr>\n",
       "      <th>0</th>\n",
       "      <td>Hovis Thick Sliced White Bread (1x800g)</td>\n",
       "      <td>B000N1XPEY</td>\n",
       "    </tr>\n",
       "    <tr>\n",
       "      <th>1</th>\n",
       "      <td>Tea Towels Terry Check (1x10)</td>\n",
       "      <td>B000NM75KI</td>\n",
       "    </tr>\n",
       "    <tr>\n",
       "      <th>2</th>\n",
       "      <td>ES Buttery Spread PMP 50p (24x250g)</td>\n",
       "      <td>B000QU95XW</td>\n",
       "    </tr>\n",
       "    <tr>\n",
       "      <th>3</th>\n",
       "      <td>Pepsi Max PET PMP £1.89 (6x2lt)</td>\n",
       "      <td>B000UE2YVE</td>\n",
       "    </tr>\n",
       "    <tr>\n",
       "      <th>4</th>\n",
       "      <td>CL Professional Extra Str Refuse Sacks (2x90)</td>\n",
       "      <td>B0012344GK</td>\n",
       "    </tr>\n",
       "  </tbody>\n",
       "</table>\n",
       "</div>"
      ],
      "text/plain": [
       "                                           Brand      Amazon\n",
       "0        Hovis Thick Sliced White Bread (1x800g)  B000N1XPEY\n",
       "1                  Tea Towels Terry Check (1x10)  B000NM75KI\n",
       "2            ES Buttery Spread PMP 50p (24x250g)  B000QU95XW\n",
       "3                Pepsi Max PET PMP £1.89 (6x2lt)  B000UE2YVE\n",
       "4  CL Professional Extra Str Refuse Sacks (2x90)  B0012344GK"
      ]
     },
     "execution_count": 3,
     "metadata": {},
     "output_type": "execute_result"
    }
   ],
   "source": [
    "data.head()"
   ]
  },
  {
   "cell_type": "code",
   "execution_count": 4,
   "metadata": {},
   "outputs": [],
   "source": [
    "am_id = data.take([1], axis=1)"
   ]
  },
  {
   "cell_type": "code",
   "execution_count": 5,
   "metadata": {},
   "outputs": [
    {
     "data": {
      "text/html": [
       "<div>\n",
       "<style scoped>\n",
       "    .dataframe tbody tr th:only-of-type {\n",
       "        vertical-align: middle;\n",
       "    }\n",
       "\n",
       "    .dataframe tbody tr th {\n",
       "        vertical-align: top;\n",
       "    }\n",
       "\n",
       "    .dataframe thead th {\n",
       "        text-align: right;\n",
       "    }\n",
       "</style>\n",
       "<table border=\"1\" class=\"dataframe\">\n",
       "  <thead>\n",
       "    <tr style=\"text-align: right;\">\n",
       "      <th></th>\n",
       "      <th>Amazon</th>\n",
       "    </tr>\n",
       "  </thead>\n",
       "  <tbody>\n",
       "    <tr>\n",
       "      <th>0</th>\n",
       "      <td>B000N1XPEY</td>\n",
       "    </tr>\n",
       "    <tr>\n",
       "      <th>1</th>\n",
       "      <td>B000NM75KI</td>\n",
       "    </tr>\n",
       "    <tr>\n",
       "      <th>2</th>\n",
       "      <td>B000QU95XW</td>\n",
       "    </tr>\n",
       "    <tr>\n",
       "      <th>3</th>\n",
       "      <td>B000UE2YVE</td>\n",
       "    </tr>\n",
       "    <tr>\n",
       "      <th>4</th>\n",
       "      <td>B0012344GK</td>\n",
       "    </tr>\n",
       "    <tr>\n",
       "      <th>...</th>\n",
       "      <td>...</td>\n",
       "    </tr>\n",
       "    <tr>\n",
       "      <th>515</th>\n",
       "      <td>B0875597YZ</td>\n",
       "    </tr>\n",
       "    <tr>\n",
       "      <th>516</th>\n",
       "      <td>B08755JHLR</td>\n",
       "    </tr>\n",
       "    <tr>\n",
       "      <th>517</th>\n",
       "      <td>B087DMXKYC</td>\n",
       "    </tr>\n",
       "    <tr>\n",
       "      <th>518</th>\n",
       "      <td>B087FPMC6J</td>\n",
       "    </tr>\n",
       "    <tr>\n",
       "      <th>519</th>\n",
       "      <td>B08B2BP7QN</td>\n",
       "    </tr>\n",
       "  </tbody>\n",
       "</table>\n",
       "<p>520 rows × 1 columns</p>\n",
       "</div>"
      ],
      "text/plain": [
       "         Amazon\n",
       "0    B000N1XPEY\n",
       "1    B000NM75KI\n",
       "2    B000QU95XW\n",
       "3    B000UE2YVE\n",
       "4    B0012344GK\n",
       "..          ...\n",
       "515  B0875597YZ\n",
       "516  B08755JHLR\n",
       "517  B087DMXKYC\n",
       "518  B087FPMC6J\n",
       "519  B08B2BP7QN\n",
       "\n",
       "[520 rows x 1 columns]"
      ]
     },
     "execution_count": 5,
     "metadata": {},
     "output_type": "execute_result"
    }
   ],
   "source": [
    "am_id.astype(str)"
   ]
  },
  {
   "cell_type": "code",
   "execution_count": 6,
   "metadata": {},
   "outputs": [
    {
     "data": {
      "text/plain": [
       "pandas.core.series.Series"
      ]
     },
     "execution_count": 6,
     "metadata": {},
     "output_type": "execute_result"
    }
   ],
   "source": [
    "type(am_id.iloc[4])"
   ]
  },
  {
   "cell_type": "code",
   "execution_count": 7,
   "metadata": {},
   "outputs": [],
   "source": [
    "final = am_id.Amazon.values"
   ]
  },
  {
   "cell_type": "code",
   "execution_count": 8,
   "metadata": {},
   "outputs": [
    {
     "data": {
      "text/plain": [
       "'B000N1XPEY'"
      ]
     },
     "execution_count": 8,
     "metadata": {},
     "output_type": "execute_result"
    }
   ],
   "source": [
    "final[0]"
   ]
  },
  {
   "cell_type": "code",
   "execution_count": 9,
   "metadata": {},
   "outputs": [
    {
     "name": "stdout",
     "output_type": "stream",
     "text": [
      "https://www.amazon.co.uk/s?k=B000NM75KI&ref=nb_sb_noss\n"
     ]
    }
   ],
   "source": [
    "key = ('https://www.amazon.co.uk/s?k='+final[1]+'&ref=nb_sb_noss')\n",
    "print(key)"
   ]
  },
  {
   "cell_type": "code",
   "execution_count": 32,
   "metadata": {},
   "outputs": [],
   "source": [
    "bot = webdriver.Chrome()"
   ]
  },
  {
   "cell_type": "code",
   "execution_count": 41,
   "metadata": {},
   "outputs": [],
   "source": [
    "aaa = []\n",
    "bsdk = []\n",
    "for i in range (5): \n",
    "    key = ('https://www.amazon.co.uk/s?k='+final[i]+'&ref=nb_sb_noss')\n",
    "    var = [final[i]]\n",
    "    bot.get(key)\n",
    "    time.sleep(2)\n",
    "    data = BeautifulSoup(bot.page_source)\n",
    "#     name_box = data.find('span', attrs={'class':'a-size-base-plus a-color-base a-text-normal'})\n",
    "#     bsdk.append(name_box)\n",
    "#     try:\n",
    "#         var.append(name_box)\n",
    "#     except:\n",
    "#         var.append(\"Empty Space\")\n",
    "    try:\n",
    "        bot.find_element_by_class_name('s-image').click()\n",
    "        time.sleep(2)\n",
    "        data = BeautifulSoup(bot.page_source)\n",
    "        name_box1 = data.find('span', attrs={'class':'a-size-medium a-color-price priceBlockBuyingPriceString'})\n",
    "        try:\n",
    "            var.append(name_box1)\n",
    "        except:\n",
    "            var.append(\"Empty Space\")\n",
    "        time.sleep(0.5)\n",
    "        data = BeautifulSoup(bot.page_source)\n",
    "        name_box2 = data.find('span', attrs={'class':'priceBlockStrikePriceString a-text-strike'})\n",
    "        try:\n",
    "            var.append(name_box2)\n",
    "        except:\n",
    "            var.append(\"Empty Space\")\n",
    "        name_box = data.find('span', attrs={'class':'a-size-large product-title-word-break'})\n",
    "        try:\n",
    "            var.append(name_box)\n",
    "        except:\n",
    "            var.append(\"Empty Space\")\n",
    "        \n",
    "    except:\n",
    "        pass\n",
    "    aaa.append(var)"
   ]
  },
  {
   "cell_type": "code",
   "execution_count": 45,
   "metadata": {},
   "outputs": [
    {
     "name": "stdout",
     "output_type": "stream",
     "text": [
      "['B000NM75KI', '£7.39', '£7.90', 'Robert Scott Tea Towels with a Coloured Check Design | Pack of 10 | Assorted Colours | Machine Washable | Absorbent Fabric']\n",
      "['B0012344GK', '£5.99', None, 'Addis 90L Plastic Refuse Sacks Black, 20 Each']\n"
     ]
    }
   ],
   "source": [
    "for k in range(len(aaa)):\n",
    "    i = aaa[k]\n",
    "    if len(i)==1:\n",
    "        continue\n",
    "    else:\n",
    "        for j in range(1,len(i)):\n",
    "            if i[j] is None:\n",
    "                continue\n",
    "            else:\n",
    "                i[j] = i[j].text.strip()\n",
    "    aaa[k] = i"
   ]
  },
  {
   "cell_type": "code",
   "execution_count": 52,
   "metadata": {},
   "outputs": [],
   "source": [
    "aaa = [i + [None]*(4-len(i)) for i in aaa]"
   ]
  },
  {
   "cell_type": "code",
   "execution_count": 55,
   "metadata": {},
   "outputs": [],
   "source": [
    "data = np.array(aaa)"
   ]
  },
  {
   "cell_type": "code",
   "execution_count": 56,
   "metadata": {},
   "outputs": [
    {
     "data": {
      "text/plain": [
       "(5, 4)"
      ]
     },
     "execution_count": 56,
     "metadata": {},
     "output_type": "execute_result"
    }
   ],
   "source": [
    "data.shape"
   ]
  },
  {
   "cell_type": "code",
   "execution_count": 59,
   "metadata": {},
   "outputs": [],
   "source": [
    "df = pd.DataFrame(data, columns=['Supplier Product Code', 'Base Price', 'On-Shelf Price', 'Description'])"
   ]
  },
  {
   "cell_type": "code",
   "execution_count": 62,
   "metadata": {},
   "outputs": [],
   "source": [
    "df.to_csv('Output.csv')"
   ]
  },
  {
   "cell_type": "code",
   "execution_count": null,
   "metadata": {},
   "outputs": [],
   "source": []
  }
 ],
 "metadata": {
  "kernelspec": {
   "display_name": "Python 3",
   "language": "python",
   "name": "python3"
  },
  "language_info": {
   "codemirror_mode": {
    "name": "ipython",
    "version": 3
   },
   "file_extension": ".py",
   "mimetype": "text/x-python",
   "name": "python",
   "nbconvert_exporter": "python",
   "pygments_lexer": "ipython3",
   "version": "3.7.6"
  }
 },
 "nbformat": 4,
 "nbformat_minor": 4
}
